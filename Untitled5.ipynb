{
 "cells": [
  {
   "cell_type": "code",
   "execution_count": 8,
   "id": "c0499c10",
   "metadata": {},
   "outputs": [
    {
     "name": "stdout",
     "output_type": "stream",
     "text": [
      "Enter the first number: 2\n",
      "Enter the second number: 3\n",
      "Enter the operator you want to perform\n",
      "Enter any operator for operation +, -, *, /,**  +\n",
      "2 + 3 :  5\n"
     ]
    }
   ],
   "source": [
    "\n",
    " #Make a calculator using Python with addition , subtraction ,multiplication ,division and power\n",
    "\n",
    "num1=int(input(\"Enter the first number: \"))\n",
    "num2=int(input(\"Enter the second number: \"))\n",
    "print(\"Enter the operator you want to perform\");\n",
    "operator=input(\"Enter any operator for operation +, -, *, /,**  \")\n",
    "result=0\n",
    "if operator=='+':\n",
    "    result=num1+num2;\n",
    "elif operator=='-':\n",
    "    result=num1-num2;\n",
    "elif operator=='*':\n",
    "    result=num1*num2;\n",
    "elif operator=='/':\n",
    "    result=num1/num2;\n",
    "elif operator=='**':\n",
    "    result=num1**num2;\n",
    "else:\n",
    "   print(\"Your input is not supported\");\n",
    "print(num1,operator,num2,\": \",result)"
   ]
  },
  {
   "cell_type": "code",
   "execution_count": 3,
   "id": "dd277327",
   "metadata": {},
   "outputs": [
    {
     "name": "stdout",
     "output_type": "stream",
     "text": [
      "Enter input do you want to check is exit in list using for loop 5\n",
      "Element Exists\n"
     ]
    }
   ],
   "source": [
    " numeric_value = [ 1, 2, 3, 4, 5]\n",
    "\n",
    "input1=int(input(\"Enter input do you want to check is exit in list using for loop \"))\n",
    "# print(\"Checking if input exists in list\")\n",
    " \n",
    "for i in numeric_value:\n",
    "    if(i == input1):\n",
    "        print (\"Element Exists\")\n",
    "        break\n",
    "else:\n",
    "    print(\"not exist\")\n",
    "\n",
    " "
   ]
  },
  {
   "cell_type": "code",
   "execution_count": 5,
   "id": "df6fbd0e",
   "metadata": {},
   "outputs": [
    {
     "name": "stdout",
     "output_type": "stream",
     "text": [
      "{1: 10, 2: 20, 3: 30, 4: 40}\n"
     ]
    }
   ],
   "source": [
    "#Q3#Write a Python script to add a key to a dictionary\n",
    "\n",
    "dictionary={1:10, 2:20, 3:30}\n",
    "dictionary[4]=40\n",
    "print(dictionary)"
   ]
  },
  {
   "cell_type": "code",
   "execution_count": 6,
   "id": "d5d353fd",
   "metadata": {},
   "outputs": [
    {
     "name": "stdout",
     "output_type": "stream",
     "text": [
      "result all numeric sum 600\n"
     ]
    }
   ],
   "source": [
    "#Write a Python program to sum all the numeric items in a dictionary\n",
    "\n",
    "my_dict_sum = {'data1':100,'data2':200,'data3':300}\n",
    "print(\"result all numeric sum\",sum(my_dict_sum.values()))"
   ]
  },
  {
   "cell_type": "code",
   "execution_count": 49,
   "id": "c144b523",
   "metadata": {},
   "outputs": [
    {
     "name": "stdout",
     "output_type": "stream",
     "text": [
      "1\n",
      "2\n",
      "3\n",
      "4\n"
     ]
    }
   ],
   "source": [
    " #Q5Write a program to identify duplicate values from list\n",
    "list1=[1,2,3,4,5,6,7,8,9,1,2,3,4]\n",
    "result1=[]\n",
    "for i in list1:\n",
    "    if i not in result1:\n",
    "        result1.append(i)\n",
    "    else:\n",
    "        print(i)"
   ]
  },
  {
   "cell_type": "code",
   "execution_count": 10,
   "id": "ee05e352",
   "metadata": {},
   "outputs": [
    {
     "name": "stdout",
     "output_type": "stream",
     "text": [
      "enter iput do you want to chek  given value exist or not Abdul\n",
      "Key exists in a list\n"
     ]
    }
   ],
   "source": [
    "#Q6-Write a Python script to check if a given key already exists in a dictionary\n",
    "dictionary = {\n",
    "    \"Abdul\": \"1\",\n",
    "    \"basit\": \"2\",\n",
    "    \"Bhutto\": \"3\",\n",
    "  \n",
    "   \n",
    "}\n",
    "\n",
    "key=input(\"enter iput do you want to chek  given value exist or not \")\n",
    "\n",
    "\n",
    "if key in dictionary:\n",
    "    print(\"Key exists in a list\") \n",
    "else:\n",
    "    print(\"Key does not exist\")"
   ]
  },
  {
   "cell_type": "code",
   "execution_count": null,
   "id": "63b75e3a",
   "metadata": {},
   "outputs": [],
   "source": []
  }
 ],
 "metadata": {
  "kernelspec": {
   "display_name": "Python 3",
   "language": "python",
   "name": "python3"
  },
  "language_info": {
   "codemirror_mode": {
    "name": "ipython",
    "version": 3
   },
   "file_extension": ".py",
   "mimetype": "text/x-python",
   "name": "python",
   "nbconvert_exporter": "python",
   "pygments_lexer": "ipython3",
   "version": "3.8.8"
  }
 },
 "nbformat": 4,
 "nbformat_minor": 5
}
